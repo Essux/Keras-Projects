{
  "nbformat": 4,
  "nbformat_minor": 0,
  "metadata": {
    "colab": {
      "name": "ScrobblingPredictor.ipynb",
      "provenance": []
    },
    "kernelspec": {
      "name": "python3",
      "display_name": "Python 3"
    },
    "accelerator": "GPU"
  },
  "cells": [
    {
      "cell_type": "code",
      "metadata": {
        "id": "xtXpye6ePeBI",
        "colab_type": "code",
        "colab": {}
      },
      "source": [
        "import pandas as pd\n",
        "import numpy as np\n",
        "import matplotlib.pyplot as plt\n",
        "import keras"
      ],
      "execution_count": null,
      "outputs": []
    },
    {
      "cell_type": "code",
      "metadata": {
        "id": "cXWDTE9cP2sq",
        "colab_type": "code",
        "colab": {}
      },
      "source": [
        "df = pd.read_csv('data.csv', parse_dates=[3])"
      ],
      "execution_count": null,
      "outputs": []
    },
    {
      "cell_type": "markdown",
      "metadata": {
        "id": "t0yei4Irh1Ae",
        "colab_type": "text"
      },
      "source": [
        "## Processing data"
      ]
    },
    {
      "cell_type": "code",
      "metadata": {
        "id": "VuAGDUhzQAbp",
        "colab_type": "code",
        "colab": {
          "base_uri": "https://localhost:8080/",
          "height": 348
        },
        "outputId": "1bc191ec-fafd-4c78-8655-636affac9951"
      },
      "source": [
        "df.iloc[30:40]"
      ],
      "execution_count": null,
      "outputs": [
        {
          "output_type": "execute_result",
          "data": {
            "text/html": [
              "<div>\n",
              "<style scoped>\n",
              "    .dataframe tbody tr th:only-of-type {\n",
              "        vertical-align: middle;\n",
              "    }\n",
              "\n",
              "    .dataframe tbody tr th {\n",
              "        vertical-align: top;\n",
              "    }\n",
              "\n",
              "    .dataframe thead th {\n",
              "        text-align: right;\n",
              "    }\n",
              "</style>\n",
              "<table border=\"1\" class=\"dataframe\">\n",
              "  <thead>\n",
              "    <tr style=\"text-align: right;\">\n",
              "      <th></th>\n",
              "      <th>Artist</th>\n",
              "      <th>Album</th>\n",
              "      <th>Song</th>\n",
              "      <th>Date</th>\n",
              "    </tr>\n",
              "  </thead>\n",
              "  <tbody>\n",
              "    <tr>\n",
              "      <th>30</th>\n",
              "      <td>The Smiths</td>\n",
              "      <td>Louder Than Bombs</td>\n",
              "      <td>Girl Afraid - 2011 Remaster</td>\n",
              "      <td>2019-06-07 14:37:00</td>\n",
              "    </tr>\n",
              "    <tr>\n",
              "      <th>31</th>\n",
              "      <td>The Smiths</td>\n",
              "      <td>Meat Is Murder</td>\n",
              "      <td>What She Said - 2011 Remaster</td>\n",
              "      <td>2019-06-07 04:51:00</td>\n",
              "    </tr>\n",
              "    <tr>\n",
              "      <th>32</th>\n",
              "      <td>Anarbor</td>\n",
              "      <td>Anarbor</td>\n",
              "      <td>Already Dead</td>\n",
              "      <td>2019-06-06 12:48:00</td>\n",
              "    </tr>\n",
              "    <tr>\n",
              "      <th>33</th>\n",
              "      <td>Melanie Martinez</td>\n",
              "      <td>Gingerbread Man</td>\n",
              "      <td>Gingerbread Man</td>\n",
              "      <td>2019-06-06 12:47:00</td>\n",
              "    </tr>\n",
              "    <tr>\n",
              "      <th>34</th>\n",
              "      <td>The 1975</td>\n",
              "      <td>I Like It When You Sleep For You Are So Beauti...</td>\n",
              "      <td>Love Me</td>\n",
              "      <td>2019-06-06 12:46:00</td>\n",
              "    </tr>\n",
              "    <tr>\n",
              "      <th>35</th>\n",
              "      <td>The All-American Rejects</td>\n",
              "      <td>When the World Comes Down</td>\n",
              "      <td>Gives You Hell</td>\n",
              "      <td>2019-06-06 12:45:00</td>\n",
              "    </tr>\n",
              "    <tr>\n",
              "      <th>36</th>\n",
              "      <td>Rafael Lechowski &amp; Glaç</td>\n",
              "      <td>Donde duele inspira (2007-2011)</td>\n",
              "      <td>36500 días</td>\n",
              "      <td>2019-06-06 06:16:00</td>\n",
              "    </tr>\n",
              "    <tr>\n",
              "      <th>37</th>\n",
              "      <td>Mitski</td>\n",
              "      <td>Be the Cowboy</td>\n",
              "      <td>Nobody</td>\n",
              "      <td>2019-06-06 03:48:00</td>\n",
              "    </tr>\n",
              "    <tr>\n",
              "      <th>38</th>\n",
              "      <td>Videoclub</td>\n",
              "      <td>Amour Plastique</td>\n",
              "      <td>Amour Plastique</td>\n",
              "      <td>2019-06-06 03:14:00</td>\n",
              "    </tr>\n",
              "    <tr>\n",
              "      <th>39</th>\n",
              "      <td>Julieta Venegas</td>\n",
              "      <td>Si</td>\n",
              "      <td>Lento</td>\n",
              "      <td>2019-06-06 02:27:00</td>\n",
              "    </tr>\n",
              "  </tbody>\n",
              "</table>\n",
              "</div>"
            ],
            "text/plain": [
              "                      Artist  ...                Date\n",
              "30                The Smiths  ... 2019-06-07 14:37:00\n",
              "31                The Smiths  ... 2019-06-07 04:51:00\n",
              "32                   Anarbor  ... 2019-06-06 12:48:00\n",
              "33          Melanie Martinez  ... 2019-06-06 12:47:00\n",
              "34                  The 1975  ... 2019-06-06 12:46:00\n",
              "35  The All-American Rejects  ... 2019-06-06 12:45:00\n",
              "36   Rafael Lechowski & Glaç  ... 2019-06-06 06:16:00\n",
              "37                    Mitski  ... 2019-06-06 03:48:00\n",
              "38                 Videoclub  ... 2019-06-06 03:14:00\n",
              "39           Julieta Venegas  ... 2019-06-06 02:27:00\n",
              "\n",
              "[10 rows x 4 columns]"
            ]
          },
          "metadata": {
            "tags": []
          },
          "execution_count": 4
        }
      ]
    },
    {
      "cell_type": "code",
      "metadata": {
        "id": "5139Gy5HQ6TB",
        "colab_type": "code",
        "colab": {}
      },
      "source": [
        "df_filtered = df[df.groupby(['Artist'])['Song'].transform(lambda x : x.count()>100)]"
      ],
      "execution_count": null,
      "outputs": []
    },
    {
      "cell_type": "code",
      "metadata": {
        "colab_type": "code",
        "id": "n2QTMU52WQIW",
        "colab": {
          "base_uri": "https://localhost:8080/",
          "height": 126
        },
        "outputId": "e2eb54ab-26f9-4052-8ecc-3f821c83cbf1"
      },
      "source": [
        "df_filtered['month'] = df_filtered.Date.dt.to_period('M').values"
      ],
      "execution_count": null,
      "outputs": [
        {
          "output_type": "stream",
          "text": [
            "/usr/local/lib/python3.6/dist-packages/ipykernel_launcher.py:1: SettingWithCopyWarning: \n",
            "A value is trying to be set on a copy of a slice from a DataFrame.\n",
            "Try using .loc[row_indexer,col_indexer] = value instead\n",
            "\n",
            "See the caveats in the documentation: http://pandas.pydata.org/pandas-docs/stable/indexing.html#indexing-view-versus-copy\n",
            "  \"\"\"Entry point for launching an IPython kernel.\n"
          ],
          "name": "stderr"
        }
      ]
    },
    {
      "cell_type": "code",
      "metadata": {
        "id": "TwumnCXEXicR",
        "colab_type": "code",
        "colab": {
          "base_uri": "https://localhost:8080/",
          "height": 348
        },
        "outputId": "6aa4067c-f9b6-4564-d08c-765c1c6787ac"
      },
      "source": [
        "df_filtered.head(10)"
      ],
      "execution_count": null,
      "outputs": [
        {
          "output_type": "execute_result",
          "data": {
            "text/html": [
              "<div>\n",
              "<style scoped>\n",
              "    .dataframe tbody tr th:only-of-type {\n",
              "        vertical-align: middle;\n",
              "    }\n",
              "\n",
              "    .dataframe tbody tr th {\n",
              "        vertical-align: top;\n",
              "    }\n",
              "\n",
              "    .dataframe thead th {\n",
              "        text-align: right;\n",
              "    }\n",
              "</style>\n",
              "<table border=\"1\" class=\"dataframe\">\n",
              "  <thead>\n",
              "    <tr style=\"text-align: right;\">\n",
              "      <th></th>\n",
              "      <th>Artist</th>\n",
              "      <th>Album</th>\n",
              "      <th>Song</th>\n",
              "      <th>Date</th>\n",
              "      <th>month</th>\n",
              "    </tr>\n",
              "  </thead>\n",
              "  <tbody>\n",
              "    <tr>\n",
              "      <th>0</th>\n",
              "      <td>Bayside</td>\n",
              "      <td>Acoustic</td>\n",
              "      <td>Masterpiece</td>\n",
              "      <td>2019-06-08 06:20:00</td>\n",
              "      <td>2019-06</td>\n",
              "    </tr>\n",
              "    <tr>\n",
              "      <th>1</th>\n",
              "      <td>Bayside</td>\n",
              "      <td>Acoustic</td>\n",
              "      <td>Paternal Reversal</td>\n",
              "      <td>2019-06-08 06:17:00</td>\n",
              "      <td>2019-06</td>\n",
              "    </tr>\n",
              "    <tr>\n",
              "      <th>2</th>\n",
              "      <td>Bayside</td>\n",
              "      <td>Acoustic</td>\n",
              "      <td>Montauk</td>\n",
              "      <td>2019-06-08 06:13:00</td>\n",
              "      <td>2019-06</td>\n",
              "    </tr>\n",
              "    <tr>\n",
              "      <th>3</th>\n",
              "      <td>Bayside</td>\n",
              "      <td>The Walking Wounded (Gold Edition)</td>\n",
              "      <td>Choice Hops and Bottled Self Esteem</td>\n",
              "      <td>2019-06-07 22:59:00</td>\n",
              "      <td>2019-06</td>\n",
              "    </tr>\n",
              "    <tr>\n",
              "      <th>4</th>\n",
              "      <td>Bayside</td>\n",
              "      <td>Vacancy</td>\n",
              "      <td>The Ghost</td>\n",
              "      <td>2019-06-07 22:40:00</td>\n",
              "      <td>2019-06</td>\n",
              "    </tr>\n",
              "    <tr>\n",
              "      <th>5</th>\n",
              "      <td>Bayside</td>\n",
              "      <td>Killing Time</td>\n",
              "      <td>Mona Lisa</td>\n",
              "      <td>2019-06-07 22:24:00</td>\n",
              "      <td>2019-06</td>\n",
              "    </tr>\n",
              "    <tr>\n",
              "      <th>6</th>\n",
              "      <td>Bayside</td>\n",
              "      <td>Bayside</td>\n",
              "      <td>Devotion and Desire</td>\n",
              "      <td>2019-06-07 22:20:00</td>\n",
              "      <td>2019-06</td>\n",
              "    </tr>\n",
              "    <tr>\n",
              "      <th>7</th>\n",
              "      <td>Bayside</td>\n",
              "      <td>Vacancy</td>\n",
              "      <td>Rumspringa (Return To Heartbreak Road)</td>\n",
              "      <td>2019-06-07 22:17:00</td>\n",
              "      <td>2019-06</td>\n",
              "    </tr>\n",
              "    <tr>\n",
              "      <th>8</th>\n",
              "      <td>Bayside</td>\n",
              "      <td>Acoustic Volume 2</td>\n",
              "      <td>Duality</td>\n",
              "      <td>2019-06-07 22:13:00</td>\n",
              "      <td>2019-06</td>\n",
              "    </tr>\n",
              "    <tr>\n",
              "      <th>9</th>\n",
              "      <td>Bayside</td>\n",
              "      <td>Acoustic Volume 2</td>\n",
              "      <td>Duality</td>\n",
              "      <td>2019-06-07 21:32:00</td>\n",
              "      <td>2019-06</td>\n",
              "    </tr>\n",
              "  </tbody>\n",
              "</table>\n",
              "</div>"
            ],
            "text/plain": [
              "    Artist                               Album  ...                Date    month\n",
              "0  Bayside                            Acoustic  ... 2019-06-08 06:20:00  2019-06\n",
              "1  Bayside                            Acoustic  ... 2019-06-08 06:17:00  2019-06\n",
              "2  Bayside                            Acoustic  ... 2019-06-08 06:13:00  2019-06\n",
              "3  Bayside  The Walking Wounded (Gold Edition)  ... 2019-06-07 22:59:00  2019-06\n",
              "4  Bayside                             Vacancy  ... 2019-06-07 22:40:00  2019-06\n",
              "5  Bayside                        Killing Time  ... 2019-06-07 22:24:00  2019-06\n",
              "6  Bayside                             Bayside  ... 2019-06-07 22:20:00  2019-06\n",
              "7  Bayside                             Vacancy  ... 2019-06-07 22:17:00  2019-06\n",
              "8  Bayside                   Acoustic Volume 2  ... 2019-06-07 22:13:00  2019-06\n",
              "9  Bayside                   Acoustic Volume 2  ... 2019-06-07 21:32:00  2019-06\n",
              "\n",
              "[10 rows x 5 columns]"
            ]
          },
          "metadata": {
            "tags": []
          },
          "execution_count": 7
        }
      ]
    },
    {
      "cell_type": "code",
      "metadata": {
        "id": "Faaw1FKpScEo",
        "colab_type": "code",
        "colab": {
          "base_uri": "https://localhost:8080/",
          "height": 198
        },
        "outputId": "a6fffaf6-ec54-4d7a-f852-55ea109d307e"
      },
      "source": [
        "df_months = df_filtered.groupby(['Artist', 'month']).Song.count().reset_index()\n",
        "df_months.sample(5)"
      ],
      "execution_count": null,
      "outputs": [
        {
          "output_type": "execute_result",
          "data": {
            "text/html": [
              "<div>\n",
              "<style scoped>\n",
              "    .dataframe tbody tr th:only-of-type {\n",
              "        vertical-align: middle;\n",
              "    }\n",
              "\n",
              "    .dataframe tbody tr th {\n",
              "        vertical-align: top;\n",
              "    }\n",
              "\n",
              "    .dataframe thead th {\n",
              "        text-align: right;\n",
              "    }\n",
              "</style>\n",
              "<table border=\"1\" class=\"dataframe\">\n",
              "  <thead>\n",
              "    <tr style=\"text-align: right;\">\n",
              "      <th></th>\n",
              "      <th>Artist</th>\n",
              "      <th>month</th>\n",
              "      <th>Song</th>\n",
              "    </tr>\n",
              "  </thead>\n",
              "  <tbody>\n",
              "    <tr>\n",
              "      <th>5021</th>\n",
              "      <td>Vance Joy</td>\n",
              "      <td>2017-05</td>\n",
              "      <td>2</td>\n",
              "    </tr>\n",
              "    <tr>\n",
              "      <th>3296</th>\n",
              "      <td>Pentatonix</td>\n",
              "      <td>2016-11</td>\n",
              "      <td>3</td>\n",
              "    </tr>\n",
              "    <tr>\n",
              "      <th>566</th>\n",
              "      <td>Bayside</td>\n",
              "      <td>2018-09</td>\n",
              "      <td>145</td>\n",
              "    </tr>\n",
              "    <tr>\n",
              "      <th>4147</th>\n",
              "      <td>System of a Down</td>\n",
              "      <td>2016-02</td>\n",
              "      <td>2</td>\n",
              "    </tr>\n",
              "    <tr>\n",
              "      <th>4104</th>\n",
              "      <td>Superlitio</td>\n",
              "      <td>2016-12</td>\n",
              "      <td>13</td>\n",
              "    </tr>\n",
              "  </tbody>\n",
              "</table>\n",
              "</div>"
            ],
            "text/plain": [
              "                Artist    month  Song\n",
              "5021         Vance Joy  2017-05     2\n",
              "3296        Pentatonix  2016-11     3\n",
              "566            Bayside  2018-09   145\n",
              "4147  System of a Down  2016-02     2\n",
              "4104        Superlitio  2016-12    13"
            ]
          },
          "metadata": {
            "tags": []
          },
          "execution_count": 8
        }
      ]
    },
    {
      "cell_type": "code",
      "metadata": {
        "id": "Gryl9ojlYk4O",
        "colab_type": "code",
        "colab": {
          "base_uri": "https://localhost:8080/",
          "height": 378
        },
        "outputId": "9221e19a-0399-4afb-9201-fa4e33e6393d"
      },
      "source": [
        "df_final = df_months.set_index(['month', 'Artist']).unstack(fill_value=0).asfreq('M', fill_value=0).stack().sort_index(level=1).reset_index()\n",
        "df_final.loc[130:140]"
      ],
      "execution_count": null,
      "outputs": [
        {
          "output_type": "execute_result",
          "data": {
            "text/html": [
              "<div>\n",
              "<style scoped>\n",
              "    .dataframe tbody tr th:only-of-type {\n",
              "        vertical-align: middle;\n",
              "    }\n",
              "\n",
              "    .dataframe tbody tr th {\n",
              "        vertical-align: top;\n",
              "    }\n",
              "\n",
              "    .dataframe thead th {\n",
              "        text-align: right;\n",
              "    }\n",
              "</style>\n",
              "<table border=\"1\" class=\"dataframe\">\n",
              "  <thead>\n",
              "    <tr style=\"text-align: right;\">\n",
              "      <th></th>\n",
              "      <th>month</th>\n",
              "      <th>Artist</th>\n",
              "      <th>Song</th>\n",
              "    </tr>\n",
              "  </thead>\n",
              "  <tbody>\n",
              "    <tr>\n",
              "      <th>130</th>\n",
              "      <td>2015-08</td>\n",
              "      <td>Adam Lambert</td>\n",
              "      <td>1</td>\n",
              "    </tr>\n",
              "    <tr>\n",
              "      <th>131</th>\n",
              "      <td>2015-09</td>\n",
              "      <td>Adam Lambert</td>\n",
              "      <td>32</td>\n",
              "    </tr>\n",
              "    <tr>\n",
              "      <th>132</th>\n",
              "      <td>2015-10</td>\n",
              "      <td>Adam Lambert</td>\n",
              "      <td>25</td>\n",
              "    </tr>\n",
              "    <tr>\n",
              "      <th>133</th>\n",
              "      <td>2015-11</td>\n",
              "      <td>Adam Lambert</td>\n",
              "      <td>20</td>\n",
              "    </tr>\n",
              "    <tr>\n",
              "      <th>134</th>\n",
              "      <td>2015-12</td>\n",
              "      <td>Adam Lambert</td>\n",
              "      <td>9</td>\n",
              "    </tr>\n",
              "    <tr>\n",
              "      <th>135</th>\n",
              "      <td>2016-01</td>\n",
              "      <td>Adam Lambert</td>\n",
              "      <td>2</td>\n",
              "    </tr>\n",
              "    <tr>\n",
              "      <th>136</th>\n",
              "      <td>2016-02</td>\n",
              "      <td>Adam Lambert</td>\n",
              "      <td>18</td>\n",
              "    </tr>\n",
              "    <tr>\n",
              "      <th>137</th>\n",
              "      <td>2016-03</td>\n",
              "      <td>Adam Lambert</td>\n",
              "      <td>4</td>\n",
              "    </tr>\n",
              "    <tr>\n",
              "      <th>138</th>\n",
              "      <td>2016-04</td>\n",
              "      <td>Adam Lambert</td>\n",
              "      <td>6</td>\n",
              "    </tr>\n",
              "    <tr>\n",
              "      <th>139</th>\n",
              "      <td>2016-05</td>\n",
              "      <td>Adam Lambert</td>\n",
              "      <td>6</td>\n",
              "    </tr>\n",
              "    <tr>\n",
              "      <th>140</th>\n",
              "      <td>2016-06</td>\n",
              "      <td>Adam Lambert</td>\n",
              "      <td>8</td>\n",
              "    </tr>\n",
              "  </tbody>\n",
              "</table>\n",
              "</div>"
            ],
            "text/plain": [
              "       month        Artist  Song\n",
              "130  2015-08  Adam Lambert     1\n",
              "131  2015-09  Adam Lambert    32\n",
              "132  2015-10  Adam Lambert    25\n",
              "133  2015-11  Adam Lambert    20\n",
              "134  2015-12  Adam Lambert     9\n",
              "135  2016-01  Adam Lambert     2\n",
              "136  2016-02  Adam Lambert    18\n",
              "137  2016-03  Adam Lambert     4\n",
              "138  2016-04  Adam Lambert     6\n",
              "139  2016-05  Adam Lambert     6\n",
              "140  2016-06  Adam Lambert     8"
            ]
          },
          "metadata": {
            "tags": []
          },
          "execution_count": 9
        }
      ]
    },
    {
      "cell_type": "code",
      "metadata": {
        "id": "n1Q3E7b4hrjv",
        "colab_type": "code",
        "colab": {
          "base_uri": "https://localhost:8080/",
          "height": 287
        },
        "outputId": "c95b203b-07e9-4a49-e751-1c5c224d010a"
      },
      "source": [
        "df_final[df_final.Artist=='Bayside'].plot()"
      ],
      "execution_count": null,
      "outputs": [
        {
          "output_type": "execute_result",
          "data": {
            "text/plain": [
              "<matplotlib.axes._subplots.AxesSubplot at 0x7f3e31da7748>"
            ]
          },
          "metadata": {
            "tags": []
          },
          "execution_count": 10
        },
        {
          "output_type": "display_data",
          "data": {
            "image/png": "[encoded data removed]",
            "text/plain": [
              "<Figure size 432x288 with 1 Axes>"
            ]
          },
          "metadata": {
            "tags": []
          }
        }
      ]
    },
    {
      "cell_type": "code",
      "metadata": {
        "id": "Ufs9pmBuiC5K",
        "colab_type": "code",
        "colab": {}
      },
      "source": [
        "data = []\n",
        "for artist_name, df_g in df_final.groupby('Artist'):\n",
        "  data.append(df_g.Song.values)\n",
        "data = np.array(data)"
      ],
      "execution_count": null,
      "outputs": []
    },
    {
      "cell_type": "code",
      "metadata": {
        "id": "CQl1yiqrlshY",
        "colab_type": "code",
        "colab": {
          "base_uri": "https://localhost:8080/",
          "height": 35
        },
        "outputId": "3d46e716-c300-48a2-e22d-94e4c1aebd93"
      },
      "source": [
        "data.shape"
      ],
      "execution_count": null,
      "outputs": [
        {
          "output_type": "execute_result",
          "data": {
            "text/plain": [
              "(144, 59)"
            ]
          },
          "metadata": {
            "tags": []
          },
          "execution_count": 12
        }
      ]
    },
    {
      "cell_type": "code",
      "metadata": {
        "id": "M7pL_td-tJ7e",
        "colab_type": "code",
        "colab": {}
      },
      "source": [
        "# First months used for training\n",
        "months_train = 48\n",
        "# Months used for prediction\n",
        "window_len = 12"
      ],
      "execution_count": null,
      "outputs": []
    },
    {
      "cell_type": "code",
      "metadata": {
        "id": "uoHHcUoHtVzt",
        "colab_type": "code",
        "colab": {}
      },
      "source": [
        "X_train = []\n",
        "y_train = []\n",
        "X_test = []\n",
        "y_test = []\n",
        "for i in range(data.shape[0]):\n",
        "  for j in range(window_len, data.shape[1]):\n",
        "    x_obs = data[i][j-window_len:j]\n",
        "    y_obs = data[i][j]\n",
        "    if np.sum(x_obs)<=5: continue\n",
        "    if j>=months_train:\n",
        "      X_test.append(x_obs)\n",
        "      y_test.append(y_obs)\n",
        "    else:\n",
        "      X_train.append(x_obs)\n",
        "      y_train.append(y_obs)\n",
        "      \n",
        "X_train = np.array(X_train)\n",
        "y_train = np.array(y_train)\n",
        "X_test = np.array(X_test)\n",
        "y_test = np.array(y_test)"
      ],
      "execution_count": null,
      "outputs": []
    },
    {
      "cell_type": "code",
      "metadata": {
        "id": "l29jpCV82qez",
        "colab_type": "code",
        "colab": {}
      },
      "source": [
        "X_train = X_train.reshape((X_train.shape[0], window_len, 1))\n",
        "X_test = X_test.reshape((X_test.shape[0], window_len, 1))"
      ],
      "execution_count": null,
      "outputs": []
    },
    {
      "cell_type": "code",
      "metadata": {
        "id": "gofsBbmQ3HNE",
        "colab_type": "code",
        "colab": {
          "base_uri": "https://localhost:8080/",
          "height": 35
        },
        "outputId": "1959bc99-390a-477f-f9ab-26efdf8e0cbf"
      },
      "source": [
        "X_train.shape, X_test.shape"
      ],
      "execution_count": null,
      "outputs": [
        {
          "output_type": "execute_result",
          "data": {
            "text/plain": [
              "((4332, 12, 1), (1439, 12, 1))"
            ]
          },
          "metadata": {
            "tags": []
          },
          "execution_count": 206
        }
      ]
    },
    {
      "cell_type": "markdown",
      "metadata": {
        "id": "guAcwlpSh-uT",
        "colab_type": "text"
      },
      "source": [
        "## Model"
      ]
    },
    {
      "cell_type": "code",
      "metadata": {
        "id": "i0kyFqrjw3VT",
        "colab_type": "code",
        "colab": {}
      },
      "source": [
        "from keras.layers import LSTM, Dense, Input, Dropout\n",
        "from keras.models import Model\n",
        "\n",
        "\n",
        "def create_model(input_shape):\n",
        "  model_input = Input(input_shape)\n",
        "  X = LSTM(16, activation='relu')(model_input)\n",
        "  X = Dropout(0)(X)\n",
        "  X = Dense(1)(X)\n",
        "  return Model(inputs=model_input, outputs=X)"
      ],
      "execution_count": null,
      "outputs": []
    },
    {
      "cell_type": "code",
      "metadata": {
        "id": "PiTQ4mVpxdVj",
        "colab_type": "code",
        "colab": {}
      },
      "source": [
        "model = create_model((window_len,1))"
      ],
      "execution_count": null,
      "outputs": []
    },
    {
      "cell_type": "code",
      "metadata": {
        "id": "fNBohtt31LLk",
        "colab_type": "code",
        "colab": {
          "base_uri": "https://localhost:8080/",
          "height": 290
        },
        "outputId": "af762bcb-3527-49f8-a8cb-416a06356758"
      },
      "source": [
        "model.summary()"
      ],
      "execution_count": null,
      "outputs": [
        {
          "output_type": "stream",
          "text": [
            "_________________________________________________________________\n",
            "Layer (type)                 Output Shape              Param #   \n",
            "=================================================================\n",
            "input_17 (InputLayer)        (None, 12, 1)             0         \n",
            "_________________________________________________________________\n",
            "lstm_17 (LSTM)               (None, 16)                1152      \n",
            "_________________________________________________________________\n",
            "dropout_13 (Dropout)         (None, 16)                0         \n",
            "_________________________________________________________________\n",
            "dense_17 (Dense)             (None, 1)                 17        \n",
            "=================================================================\n",
            "Total params: 1,169\n",
            "Trainable params: 1,169\n",
            "Non-trainable params: 0\n",
            "_________________________________________________________________\n"
          ],
          "name": "stdout"
        }
      ]
    },
    {
      "cell_type": "code",
      "metadata": {
        "id": "JOtuh7xP170a",
        "colab_type": "code",
        "colab": {
          "base_uri": "https://localhost:8080/",
          "height": 1126
        },
        "outputId": "f96fb0e0-6913-47c7-eb48-e76bd60c4663"
      },
      "source": [
        "from tensorflow.keras.callbacks import ReduceLROnPlateau\n",
        "import keras.backend as K\n",
        "\n",
        "def custom_loss(y_true, y_pred):\n",
        "  return K.mean(K.abs((y_true - y_pred)/(y_true+1))) * 100\n",
        "\n",
        "model.compile(loss='mae', optimizer='adam')\n",
        "\n",
        "history = model.fit(X_train, y_train, epochs=30, batch_size=32, shuffle=True, validation_data=(X_test, y_test))"
      ],
      "execution_count": null,
      "outputs": [
        {
          "output_type": "stream",
          "text": [
            "Train on 4332 samples, validate on 1439 samples\n",
            "Epoch 1/30\n",
            "4332/4332 [==============================] - 6s 1ms/step - loss: 7.0038 - val_loss: 4.4926\n",
            "Epoch 2/30\n",
            "4332/4332 [==============================] - 3s 689us/step - loss: 5.2490 - val_loss: 4.2624\n",
            "Epoch 3/30\n",
            "4332/4332 [==============================] - 3s 695us/step - loss: 4.9535 - val_loss: 4.1766\n",
            "Epoch 4/30\n",
            "4332/4332 [==============================] - 3s 702us/step - loss: 4.8074 - val_loss: 4.0492\n",
            "Epoch 5/30\n",
            "4332/4332 [==============================] - 3s 697us/step - loss: 4.7338 - val_loss: 4.0187\n",
            "Epoch 6/30\n",
            "4332/4332 [==============================] - 3s 691us/step - loss: 4.6548 - val_loss: 4.0501\n",
            "Epoch 7/30\n",
            "4332/4332 [==============================] - 3s 692us/step - loss: 4.7267 - val_loss: 4.0405\n",
            "Epoch 8/30\n",
            "4332/4332 [==============================] - 3s 688us/step - loss: 4.6262 - val_loss: 4.0307\n",
            "Epoch 9/30\n",
            "4332/4332 [==============================] - 3s 695us/step - loss: 4.5997 - val_loss: 4.0414\n",
            "Epoch 10/30\n",
            "4332/4332 [==============================] - 3s 688us/step - loss: 4.5810 - val_loss: 4.0717\n",
            "Epoch 11/30\n",
            "4332/4332 [==============================] - 3s 694us/step - loss: 4.5807 - val_loss: 4.0468\n",
            "Epoch 12/30\n",
            "4332/4332 [==============================] - 3s 685us/step - loss: 4.5588 - val_loss: 4.1086\n",
            "Epoch 13/30\n",
            "4332/4332 [==============================] - 3s 691us/step - loss: 4.5385 - val_loss: 4.0803\n",
            "Epoch 14/30\n",
            "4332/4332 [==============================] - 3s 710us/step - loss: 4.5291 - val_loss: 4.0556\n",
            "Epoch 15/30\n",
            "4332/4332 [==============================] - 3s 704us/step - loss: 4.5327 - val_loss: 4.0740\n",
            "Epoch 16/30\n",
            "4332/4332 [==============================] - 3s 703us/step - loss: 4.5216 - val_loss: 4.0619\n",
            "Epoch 17/30\n",
            "4332/4332 [==============================] - 3s 701us/step - loss: 4.5101 - val_loss: 4.0777\n",
            "Epoch 18/30\n",
            "4332/4332 [==============================] - 3s 688us/step - loss: 4.5503 - val_loss: 4.0842\n",
            "Epoch 19/30\n",
            "4332/4332 [==============================] - 3s 691us/step - loss: 4.5230 - val_loss: 4.0736\n",
            "Epoch 20/30\n",
            "4332/4332 [==============================] - 3s 686us/step - loss: 4.4989 - val_loss: 4.1028\n",
            "Epoch 21/30\n",
            "4332/4332 [==============================] - 3s 695us/step - loss: 4.4906 - val_loss: 4.0979\n",
            "Epoch 22/30\n",
            "4332/4332 [==============================] - 3s 691us/step - loss: 4.4737 - val_loss: 4.1784\n",
            "Epoch 23/30\n",
            "4332/4332 [==============================] - 3s 687us/step - loss: 4.4910 - val_loss: 4.1556\n",
            "Epoch 24/30\n",
            "4332/4332 [==============================] - 3s 696us/step - loss: 4.4590 - val_loss: 4.1562\n",
            "Epoch 25/30\n",
            "4332/4332 [==============================] - 3s 686us/step - loss: 4.4542 - val_loss: 4.1792\n",
            "Epoch 26/30\n",
            "4332/4332 [==============================] - 3s 691us/step - loss: 4.4454 - val_loss: 4.1711\n",
            "Epoch 27/30\n",
            "4332/4332 [==============================] - 3s 687us/step - loss: 4.4243 - val_loss: 4.2114\n",
            "Epoch 28/30\n",
            "4332/4332 [==============================] - 3s 690us/step - loss: 4.4136 - val_loss: 4.1308\n",
            "Epoch 29/30\n",
            "4332/4332 [==============================] - 3s 692us/step - loss: 4.4605 - val_loss: 4.1499\n",
            "Epoch 30/30\n",
            "4332/4332 [==============================] - 3s 690us/step - loss: 4.4269 - val_loss: 4.1494\n"
          ],
          "name": "stdout"
        }
      ]
    },
    {
      "cell_type": "code",
      "metadata": {
        "id": "USgO4cYc-52R",
        "colab_type": "code",
        "colab": {
          "base_uri": "https://localhost:8080/",
          "height": 281
        },
        "outputId": "166245b3-48ce-46b5-f572-c0688148ceac"
      },
      "source": [
        "def plot_training(history, from_=0):\n",
        "  loss = history.history['loss']\n",
        "  val_loss = history.history['val_loss']\n",
        "  epochs = range(len(loss))\n",
        "  \n",
        "  plt.plot(epochs[from_:], loss[from_:], 'b', label='train loss')\n",
        "  plt.plot(epochs[from_:], val_loss[from_:], 'r', label='val loss')\n",
        "  plt.title('Training and validation loss')\n",
        "  plt.legend()\n",
        "  plt.show()\n",
        "plot_training(history)"
      ],
      "execution_count": null,
      "outputs": [
        {
          "output_type": "display_data",
          "data": {
            "image/png": "[encoded data removed]",
            "text/plain": [
              "<Figure size 432x288 with 1 Axes>"
            ]
          },
          "metadata": {
            "tags": []
          }
        }
      ]
    },
    {
      "cell_type": "markdown",
      "metadata": {
        "id": "SlXKqUyrwq6x",
        "colab_type": "text"
      },
      "source": [
        "### Evaluation"
      ]
    },
    {
      "cell_type": "code",
      "metadata": {
        "id": "_KHSxmL_wvg6",
        "colab_type": "code",
        "colab": {}
      },
      "source": [
        "class MeanModel:\n",
        "  def predict(self, X):\n",
        "    return np.mean(X, axis=1)\n",
        "  \n",
        "class LastModel:\n",
        "  def predict(self, X):\n",
        "    return X[:,-1]"
      ],
      "execution_count": null,
      "outputs": []
    },
    {
      "cell_type": "code",
      "metadata": {
        "id": "lvEQNfkRyOsY",
        "colab_type": "code",
        "colab": {}
      },
      "source": [
        "def mean_absolute_percentage_error(y_true, y_pred):\n",
        "  eps = 1\n",
        "  return np.mean(np.abs((y_true - y_pred) / (y_true+eps))) * 100"
      ],
      "execution_count": null,
      "outputs": []
    },
    {
      "cell_type": "code",
      "metadata": {
        "id": "tHpWMQH9pBdn",
        "colab_type": "code",
        "colab": {
          "base_uri": "https://localhost:8080/",
          "height": 348
        },
        "outputId": "c93091dd-e64d-4c73-e6a3-bbcbbdfb3af4"
      },
      "source": [
        "df_res = pd.DataFrame(X_train.reshape(X_train.shape[0], window_len))\n",
        "df_res['real'] = y_train\n",
        "df_res['predicted'] = model.predict(X_train)\n",
        "df_res['baseline'] = MeanModel().predict(X_train)\n",
        "df_res.sample(10)"
      ],
      "execution_count": null,
      "outputs": [
        {
          "output_type": "execute_result",
          "data": {
            "text/html": [
              "<div>\n",
              "<style scoped>\n",
              "    .dataframe tbody tr th:only-of-type {\n",
              "        vertical-align: middle;\n",
              "    }\n",
              "\n",
              "    .dataframe tbody tr th {\n",
              "        vertical-align: top;\n",
              "    }\n",
              "\n",
              "    .dataframe thead th {\n",
              "        text-align: right;\n",
              "    }\n",
              "</style>\n",
              "<table border=\"1\" class=\"dataframe\">\n",
              "  <thead>\n",
              "    <tr style=\"text-align: right;\">\n",
              "      <th></th>\n",
              "      <th>0</th>\n",
              "      <th>1</th>\n",
              "      <th>2</th>\n",
              "      <th>3</th>\n",
              "      <th>4</th>\n",
              "      <th>5</th>\n",
              "      <th>6</th>\n",
              "      <th>7</th>\n",
              "      <th>8</th>\n",
              "      <th>9</th>\n",
              "      <th>10</th>\n",
              "      <th>11</th>\n",
              "      <th>real</th>\n",
              "      <th>predicted</th>\n",
              "      <th>baseline</th>\n",
              "    </tr>\n",
              "  </thead>\n",
              "  <tbody>\n",
              "    <tr>\n",
              "      <th>646</th>\n",
              "      <td>2</td>\n",
              "      <td>1</td>\n",
              "      <td>0</td>\n",
              "      <td>0</td>\n",
              "      <td>1</td>\n",
              "      <td>1</td>\n",
              "      <td>1</td>\n",
              "      <td>1</td>\n",
              "      <td>0</td>\n",
              "      <td>5</td>\n",
              "      <td>39</td>\n",
              "      <td>26</td>\n",
              "      <td>21</td>\n",
              "      <td>13.839115</td>\n",
              "      <td>6.416667</td>\n",
              "    </tr>\n",
              "    <tr>\n",
              "      <th>353</th>\n",
              "      <td>22</td>\n",
              "      <td>22</td>\n",
              "      <td>9</td>\n",
              "      <td>9</td>\n",
              "      <td>16</td>\n",
              "      <td>19</td>\n",
              "      <td>6</td>\n",
              "      <td>4</td>\n",
              "      <td>5</td>\n",
              "      <td>14</td>\n",
              "      <td>29</td>\n",
              "      <td>24</td>\n",
              "      <td>18</td>\n",
              "      <td>15.455268</td>\n",
              "      <td>14.916667</td>\n",
              "    </tr>\n",
              "    <tr>\n",
              "      <th>3291</th>\n",
              "      <td>4</td>\n",
              "      <td>2</td>\n",
              "      <td>0</td>\n",
              "      <td>0</td>\n",
              "      <td>1</td>\n",
              "      <td>3</td>\n",
              "      <td>3</td>\n",
              "      <td>2</td>\n",
              "      <td>7</td>\n",
              "      <td>6</td>\n",
              "      <td>17</td>\n",
              "      <td>18</td>\n",
              "      <td>7</td>\n",
              "      <td>9.052274</td>\n",
              "      <td>5.250000</td>\n",
              "    </tr>\n",
              "    <tr>\n",
              "      <th>879</th>\n",
              "      <td>0</td>\n",
              "      <td>0</td>\n",
              "      <td>2</td>\n",
              "      <td>0</td>\n",
              "      <td>0</td>\n",
              "      <td>1</td>\n",
              "      <td>1</td>\n",
              "      <td>3</td>\n",
              "      <td>0</td>\n",
              "      <td>2</td>\n",
              "      <td>0</td>\n",
              "      <td>0</td>\n",
              "      <td>0</td>\n",
              "      <td>0.286777</td>\n",
              "      <td>0.750000</td>\n",
              "    </tr>\n",
              "    <tr>\n",
              "      <th>2006</th>\n",
              "      <td>19</td>\n",
              "      <td>8</td>\n",
              "      <td>4</td>\n",
              "      <td>7</td>\n",
              "      <td>2</td>\n",
              "      <td>4</td>\n",
              "      <td>3</td>\n",
              "      <td>2</td>\n",
              "      <td>1</td>\n",
              "      <td>2</td>\n",
              "      <td>2</td>\n",
              "      <td>8</td>\n",
              "      <td>1</td>\n",
              "      <td>4.081444</td>\n",
              "      <td>5.166667</td>\n",
              "    </tr>\n",
              "    <tr>\n",
              "      <th>2617</th>\n",
              "      <td>4</td>\n",
              "      <td>9</td>\n",
              "      <td>3</td>\n",
              "      <td>3</td>\n",
              "      <td>2</td>\n",
              "      <td>0</td>\n",
              "      <td>1</td>\n",
              "      <td>0</td>\n",
              "      <td>0</td>\n",
              "      <td>1</td>\n",
              "      <td>4</td>\n",
              "      <td>0</td>\n",
              "      <td>4</td>\n",
              "      <td>0.921925</td>\n",
              "      <td>2.250000</td>\n",
              "    </tr>\n",
              "    <tr>\n",
              "      <th>4230</th>\n",
              "      <td>0</td>\n",
              "      <td>2</td>\n",
              "      <td>0</td>\n",
              "      <td>0</td>\n",
              "      <td>0</td>\n",
              "      <td>0</td>\n",
              "      <td>0</td>\n",
              "      <td>0</td>\n",
              "      <td>13</td>\n",
              "      <td>11</td>\n",
              "      <td>39</td>\n",
              "      <td>18</td>\n",
              "      <td>40</td>\n",
              "      <td>10.298325</td>\n",
              "      <td>6.916667</td>\n",
              "    </tr>\n",
              "    <tr>\n",
              "      <th>1026</th>\n",
              "      <td>4</td>\n",
              "      <td>6</td>\n",
              "      <td>4</td>\n",
              "      <td>1</td>\n",
              "      <td>0</td>\n",
              "      <td>1</td>\n",
              "      <td>0</td>\n",
              "      <td>0</td>\n",
              "      <td>3</td>\n",
              "      <td>0</td>\n",
              "      <td>5</td>\n",
              "      <td>2</td>\n",
              "      <td>1</td>\n",
              "      <td>1.631719</td>\n",
              "      <td>2.166667</td>\n",
              "    </tr>\n",
              "    <tr>\n",
              "      <th>4262</th>\n",
              "      <td>5</td>\n",
              "      <td>0</td>\n",
              "      <td>1</td>\n",
              "      <td>4</td>\n",
              "      <td>0</td>\n",
              "      <td>1</td>\n",
              "      <td>5</td>\n",
              "      <td>3</td>\n",
              "      <td>2</td>\n",
              "      <td>3</td>\n",
              "      <td>0</td>\n",
              "      <td>0</td>\n",
              "      <td>2</td>\n",
              "      <td>0.879372</td>\n",
              "      <td>2.000000</td>\n",
              "    </tr>\n",
              "    <tr>\n",
              "      <th>2930</th>\n",
              "      <td>8</td>\n",
              "      <td>9</td>\n",
              "      <td>10</td>\n",
              "      <td>112</td>\n",
              "      <td>79</td>\n",
              "      <td>9</td>\n",
              "      <td>24</td>\n",
              "      <td>4</td>\n",
              "      <td>7</td>\n",
              "      <td>15</td>\n",
              "      <td>5</td>\n",
              "      <td>14</td>\n",
              "      <td>15</td>\n",
              "      <td>11.691222</td>\n",
              "      <td>24.666667</td>\n",
              "    </tr>\n",
              "  </tbody>\n",
              "</table>\n",
              "</div>"
            ],
            "text/plain": [
              "       0   1   2    3   4   5   6  ...   8   9  10  11  real  predicted   baseline\n",
              "646    2   1   0    0   1   1   1  ...   0   5  39  26    21  13.839115   6.416667\n",
              "353   22  22   9    9  16  19   6  ...   5  14  29  24    18  15.455268  14.916667\n",
              "3291   4   2   0    0   1   3   3  ...   7   6  17  18     7   9.052274   5.250000\n",
              "879    0   0   2    0   0   1   1  ...   0   2   0   0     0   0.286777   0.750000\n",
              "2006  19   8   4    7   2   4   3  ...   1   2   2   8     1   4.081444   5.166667\n",
              "2617   4   9   3    3   2   0   1  ...   0   1   4   0     4   0.921925   2.250000\n",
              "4230   0   2   0    0   0   0   0  ...  13  11  39  18    40  10.298325   6.916667\n",
              "1026   4   6   4    1   0   1   0  ...   3   0   5   2     1   1.631719   2.166667\n",
              "4262   5   0   1    4   0   1   5  ...   2   3   0   0     2   0.879372   2.000000\n",
              "2930   8   9  10  112  79   9  24  ...   7  15   5  14    15  11.691222  24.666667\n",
              "\n",
              "[10 rows x 15 columns]"
            ]
          },
          "metadata": {
            "tags": []
          },
          "execution_count": 200
        }
      ]
    },
    {
      "cell_type": "code",
      "metadata": {
        "id": "4mHSmNaLpU30",
        "colab_type": "code",
        "colab": {
          "base_uri": "https://localhost:8080/",
          "height": 54
        },
        "outputId": "47ddf48a-e25c-4c54-b8d0-2ab0c7bdce8b"
      },
      "source": [
        "import sklearn.metrics \n",
        "print('Baseline: {:.2f}'.format(sklearn.metrics.mean_squared_error(df_res.real, df_res.baseline)))\n",
        "print('Model: {:.2f}'.format(sklearn.metrics.mean_squared_error(df_res.real, df_res.predicted)))"
      ],
      "execution_count": null,
      "outputs": [
        {
          "output_type": "stream",
          "text": [
            "Baseline: 178.13\n",
            "Model: 138.99\n"
          ],
          "name": "stdout"
        }
      ]
    },
    {
      "cell_type": "code",
      "metadata": {
        "id": "ZVNd2bAa32QS",
        "colab_type": "code",
        "colab": {
          "base_uri": "https://localhost:8080/",
          "height": 348
        },
        "outputId": "5f07b36c-44bd-4eab-a69a-2e27ecf0cc35"
      },
      "source": [
        "df_res = pd.DataFrame(X_test.reshape(X_test.shape[0], window_len))\n",
        "df_res['real'] = y_test\n",
        "df_res['predicted'] = model.predict(X_test)\n",
        "df_res['baseline'] = MeanModel().predict(X_test)\n",
        "df_res.sample(10)"
      ],
      "execution_count": null,
      "outputs": [
        {
          "output_type": "execute_result",
          "data": {
            "text/html": [
              "<div>\n",
              "<style scoped>\n",
              "    .dataframe tbody tr th:only-of-type {\n",
              "        vertical-align: middle;\n",
              "    }\n",
              "\n",
              "    .dataframe tbody tr th {\n",
              "        vertical-align: top;\n",
              "    }\n",
              "\n",
              "    .dataframe thead th {\n",
              "        text-align: right;\n",
              "    }\n",
              "</style>\n",
              "<table border=\"1\" class=\"dataframe\">\n",
              "  <thead>\n",
              "    <tr style=\"text-align: right;\">\n",
              "      <th></th>\n",
              "      <th>0</th>\n",
              "      <th>1</th>\n",
              "      <th>2</th>\n",
              "      <th>3</th>\n",
              "      <th>4</th>\n",
              "      <th>5</th>\n",
              "      <th>6</th>\n",
              "      <th>7</th>\n",
              "      <th>8</th>\n",
              "      <th>9</th>\n",
              "      <th>10</th>\n",
              "      <th>11</th>\n",
              "      <th>real</th>\n",
              "      <th>predicted</th>\n",
              "      <th>baseline</th>\n",
              "    </tr>\n",
              "  </thead>\n",
              "  <tbody>\n",
              "    <tr>\n",
              "      <th>1009</th>\n",
              "      <td>4</td>\n",
              "      <td>5</td>\n",
              "      <td>2</td>\n",
              "      <td>4</td>\n",
              "      <td>2</td>\n",
              "      <td>3</td>\n",
              "      <td>13</td>\n",
              "      <td>8</td>\n",
              "      <td>2</td>\n",
              "      <td>4</td>\n",
              "      <td>0</td>\n",
              "      <td>4</td>\n",
              "      <td>0</td>\n",
              "      <td>2.165316</td>\n",
              "      <td>4.250000</td>\n",
              "    </tr>\n",
              "    <tr>\n",
              "      <th>458</th>\n",
              "      <td>0</td>\n",
              "      <td>0</td>\n",
              "      <td>0</td>\n",
              "      <td>1</td>\n",
              "      <td>1</td>\n",
              "      <td>0</td>\n",
              "      <td>0</td>\n",
              "      <td>1</td>\n",
              "      <td>1</td>\n",
              "      <td>1</td>\n",
              "      <td>0</td>\n",
              "      <td>2</td>\n",
              "      <td>0</td>\n",
              "      <td>1.124839</td>\n",
              "      <td>0.583333</td>\n",
              "    </tr>\n",
              "    <tr>\n",
              "      <th>99</th>\n",
              "      <td>8</td>\n",
              "      <td>22</td>\n",
              "      <td>22</td>\n",
              "      <td>9</td>\n",
              "      <td>9</td>\n",
              "      <td>16</td>\n",
              "      <td>19</td>\n",
              "      <td>6</td>\n",
              "      <td>4</td>\n",
              "      <td>5</td>\n",
              "      <td>14</td>\n",
              "      <td>29</td>\n",
              "      <td>24</td>\n",
              "      <td>17.164249</td>\n",
              "      <td>13.583333</td>\n",
              "    </tr>\n",
              "    <tr>\n",
              "      <th>368</th>\n",
              "      <td>0</td>\n",
              "      <td>2</td>\n",
              "      <td>3</td>\n",
              "      <td>3</td>\n",
              "      <td>0</td>\n",
              "      <td>2</td>\n",
              "      <td>6</td>\n",
              "      <td>11</td>\n",
              "      <td>3</td>\n",
              "      <td>0</td>\n",
              "      <td>3</td>\n",
              "      <td>2</td>\n",
              "      <td>6</td>\n",
              "      <td>1.916418</td>\n",
              "      <td>2.916667</td>\n",
              "    </tr>\n",
              "    <tr>\n",
              "      <th>10</th>\n",
              "      <td>10</td>\n",
              "      <td>9</td>\n",
              "      <td>12</td>\n",
              "      <td>16</td>\n",
              "      <td>14</td>\n",
              "      <td>7</td>\n",
              "      <td>5</td>\n",
              "      <td>3</td>\n",
              "      <td>6</td>\n",
              "      <td>5</td>\n",
              "      <td>5</td>\n",
              "      <td>8</td>\n",
              "      <td>0</td>\n",
              "      <td>5.419456</td>\n",
              "      <td>8.333333</td>\n",
              "    </tr>\n",
              "    <tr>\n",
              "      <th>560</th>\n",
              "      <td>5</td>\n",
              "      <td>3</td>\n",
              "      <td>2</td>\n",
              "      <td>9</td>\n",
              "      <td>6</td>\n",
              "      <td>1</td>\n",
              "      <td>2</td>\n",
              "      <td>4</td>\n",
              "      <td>3</td>\n",
              "      <td>6</td>\n",
              "      <td>12</td>\n",
              "      <td>4</td>\n",
              "      <td>6</td>\n",
              "      <td>3.350023</td>\n",
              "      <td>4.750000</td>\n",
              "    </tr>\n",
              "    <tr>\n",
              "      <th>888</th>\n",
              "      <td>0</td>\n",
              "      <td>0</td>\n",
              "      <td>1</td>\n",
              "      <td>0</td>\n",
              "      <td>1</td>\n",
              "      <td>0</td>\n",
              "      <td>2</td>\n",
              "      <td>1</td>\n",
              "      <td>106</td>\n",
              "      <td>11</td>\n",
              "      <td>32</td>\n",
              "      <td>2</td>\n",
              "      <td>0</td>\n",
              "      <td>12.344864</td>\n",
              "      <td>13.000000</td>\n",
              "    </tr>\n",
              "    <tr>\n",
              "      <th>190</th>\n",
              "      <td>1</td>\n",
              "      <td>0</td>\n",
              "      <td>0</td>\n",
              "      <td>3</td>\n",
              "      <td>4</td>\n",
              "      <td>2</td>\n",
              "      <td>0</td>\n",
              "      <td>0</td>\n",
              "      <td>0</td>\n",
              "      <td>1</td>\n",
              "      <td>2</td>\n",
              "      <td>1</td>\n",
              "      <td>1</td>\n",
              "      <td>0.940191</td>\n",
              "      <td>1.166667</td>\n",
              "    </tr>\n",
              "    <tr>\n",
              "      <th>328</th>\n",
              "      <td>0</td>\n",
              "      <td>5</td>\n",
              "      <td>2</td>\n",
              "      <td>1</td>\n",
              "      <td>1</td>\n",
              "      <td>0</td>\n",
              "      <td>0</td>\n",
              "      <td>2</td>\n",
              "      <td>1</td>\n",
              "      <td>1</td>\n",
              "      <td>3</td>\n",
              "      <td>0</td>\n",
              "      <td>2</td>\n",
              "      <td>0.993273</td>\n",
              "      <td>1.333333</td>\n",
              "    </tr>\n",
              "    <tr>\n",
              "      <th>599</th>\n",
              "      <td>0</td>\n",
              "      <td>1</td>\n",
              "      <td>0</td>\n",
              "      <td>1</td>\n",
              "      <td>1</td>\n",
              "      <td>0</td>\n",
              "      <td>0</td>\n",
              "      <td>2</td>\n",
              "      <td>0</td>\n",
              "      <td>1</td>\n",
              "      <td>1</td>\n",
              "      <td>0</td>\n",
              "      <td>3</td>\n",
              "      <td>0.417586</td>\n",
              "      <td>0.583333</td>\n",
              "    </tr>\n",
              "  </tbody>\n",
              "</table>\n",
              "</div>"
            ],
            "text/plain": [
              "       0   1   2   3   4   5   6  ...    8   9  10  11  real  predicted   baseline\n",
              "1009   4   5   2   4   2   3  13  ...    2   4   0   4     0   2.165316   4.250000\n",
              "458    0   0   0   1   1   0   0  ...    1   1   0   2     0   1.124839   0.583333\n",
              "99     8  22  22   9   9  16  19  ...    4   5  14  29    24  17.164249  13.583333\n",
              "368    0   2   3   3   0   2   6  ...    3   0   3   2     6   1.916418   2.916667\n",
              "10    10   9  12  16  14   7   5  ...    6   5   5   8     0   5.419456   8.333333\n",
              "560    5   3   2   9   6   1   2  ...    3   6  12   4     6   3.350023   4.750000\n",
              "888    0   0   1   0   1   0   2  ...  106  11  32   2     0  12.344864  13.000000\n",
              "190    1   0   0   3   4   2   0  ...    0   1   2   1     1   0.940191   1.166667\n",
              "328    0   5   2   1   1   0   0  ...    1   1   3   0     2   0.993273   1.333333\n",
              "599    0   1   0   1   1   0   0  ...    0   1   1   0     3   0.417586   0.583333\n",
              "\n",
              "[10 rows x 15 columns]"
            ]
          },
          "metadata": {
            "tags": []
          },
          "execution_count": 221
        }
      ]
    },
    {
      "cell_type": "code",
      "metadata": {
        "id": "bj3JvE1OqE1e",
        "colab_type": "code",
        "colab": {
          "base_uri": "https://localhost:8080/",
          "height": 72
        },
        "outputId": "3d6c72e6-ba30-4ab3-a276-e408f28a868f"
      },
      "source": [
        "import sklearn.metrics \n",
        "print('Predict Zeros: {:.2f}'.format(sklearn.metrics.mean_absolute_error(df_res.real, np.zeros((len(df_res), 1)))))\n",
        "print('Baseline: {:.2f}'.format(sklearn.metrics.mean_absolute_error(df_res.real, df_res.baseline)))\n",
        "print('Model: {:.2f}'.format(sklearn.metrics.mean_absolute_error(df_res.real, df_res.predicted)))"
      ],
      "execution_count": null,
      "outputs": [
        {
          "output_type": "stream",
          "text": [
            "Predict Zeros: 6.39\n",
            "Baseline: 5.00\n",
            "Model: 4.15\n"
          ],
          "name": "stdout"
        }
      ]
    },
    {
      "cell_type": "code",
      "metadata": {
        "id": "Idv8m4ex5x_i",
        "colab_type": "code",
        "colab": {}
      },
      "source": [
        ""
      ],
      "execution_count": null,
      "outputs": []
    },
    {
      "cell_type": "code",
      "metadata": {
        "id": "O-DXiaCFDpek",
        "colab_type": "code",
        "colab": {
          "base_uri": "https://localhost:8080/",
          "height": 90
        },
        "outputId": "07af745e-677e-4b13-d87e-66eaddfac7f5"
      },
      "source": [
        "data[5]"
      ],
      "execution_count": null,
      "outputs": [
        {
          "output_type": "execute_result",
          "data": {
            "text/plain": [
              "array([ 0,  0,  0,  6, 19,  3,  2,  1,  0,  0,  6, 16, 13, 22,  5,  3,  2,\n",
              "        3,  4,  1,  0,  1,  2,  0,  3,  2,  0,  2,  5,  1,  0,  2,  3,  0,\n",
              "        1,  0,  1,  1,  1,  0,  1,  3,  1,  0,  1,  0,  0,  0,  0,  7,  4,\n",
              "        2,  1,  2,  2,  0,  1,  1,  0])"
            ]
          },
          "metadata": {
            "tags": []
          },
          "execution_count": 90
        }
      ]
    },
    {
      "cell_type": "code",
      "metadata": {
        "id": "5VQKr1-eDMq3",
        "colab_type": "code",
        "colab": {
          "base_uri": "https://localhost:8080/",
          "height": 287
        },
        "outputId": "d232caef-9213-441c-e4bb-fb6cc4c81c1c"
      },
      "source": [
        "artist_id = 56\n",
        "plot_real = data[artist_id][:window_len-1].tolist()\n",
        "plot_pred = []\n",
        "plot_base = []\n",
        "\n",
        "for i in range(window_len, data.shape[1]):\n",
        "  x_obs = data[artist_id][i-window_len:i]\n",
        "  y_obs = data[artist_id][i]\n",
        "  y_pred = np.squeeze(model.predict(x_obs.reshape((1, window_len, 1))))\n",
        "  y_pred = max(y_pred, 0)\n",
        "  y_base = np.squeeze(MeanModel().predict(x_obs.reshape((1, window_len, 1))))\n",
        "  y_real = y_obs\n",
        "  plot_real.append(y_real)\n",
        "  plot_pred.append(y_pred)\n",
        "  plot_base.append(y_base)\n",
        "  #print(x_obs, y_real, y_pred)\n",
        "\n",
        "\n",
        "plt.plot(range(len(plot_real)), plot_real, 'r', label='real')\n",
        "plt.plot(range(window_len-1, len(plot_real)), plot_pred, 'b', label='LSTM')\n",
        "plt.plot(range(window_len-1, len(plot_real)), plot_base, 'g', label='baseline model')\n",
        "plt.legend()"
      ],
      "execution_count": null,
      "outputs": [
        {
          "output_type": "execute_result",
          "data": {
            "text/plain": [
              "<matplotlib.legend.Legend at 0x7f3da01e3080>"
            ]
          },
          "metadata": {
            "tags": []
          },
          "execution_count": 223
        },
        {
          "output_type": "display_data",
          "data": {
            "image/png": "[encoded data removed]",
            "text/plain": [
              "<Figure size 432x288 with 1 Axes>"
            ]
          },
          "metadata": {
            "tags": []
          }
        }
      ]
    }
  ]
}